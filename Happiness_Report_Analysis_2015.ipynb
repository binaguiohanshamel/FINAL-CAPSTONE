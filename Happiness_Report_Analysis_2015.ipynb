{
 "cells": [
  {
   "cell_type": "markdown",
   "id": "88625a40",
   "metadata": {},
   "source": [
    "# Final Project: Happiness Report Data Analysis (2015)"
   ]
  },
  {
   "cell_type": "code",
   "execution_count": null,
   "id": "04c0f5c9",
   "metadata": {},
   "outputs": [],
   "source": [
    "import pandas as pd\n",
    "import numpy as np\n",
    "import seaborn as sns\n",
    "import matplotlib.pyplot as plt\n",
    "import statsmodels.api as sm\n",
    "from scipy.stats import pearsonr\n",
    "\n",
    "# Load dataset\n",
    "df = pd.read_csv(\"2015.csv\")\n",
    "df.head()"
   ]
  },
  {
   "cell_type": "code",
   "execution_count": null,
   "id": "a92548a1",
   "metadata": {},
   "outputs": [],
   "source": [
    "# Check for nulls\n",
    "df.info()"
   ]
  },
  {
   "cell_type": "code",
   "execution_count": null,
   "id": "89deb248",
   "metadata": {},
   "outputs": [],
   "source": [
    "# Remove outliers using Z-score method\n",
    "numeric_cols = df.select_dtypes(include=[np.number])\n",
    "z_scores = np.abs((numeric_cols - numeric_cols.mean()) / numeric_cols.std())\n",
    "threshold = 3\n",
    "df_clean = df[(z_scores < threshold).all(axis=1)]\n",
    "print(f\"Removed {df.shape[0] - df_clean.shape[0]} outliers, {df_clean.shape[0]} rows remain.\")"
   ]
  },
  {
   "cell_type": "code",
   "execution_count": null,
   "id": "2ded67a9",
   "metadata": {},
   "outputs": [],
   "source": [
    "mean_score = np.mean(df_clean[\"Happiness Score\"])\n",
    "std_score = np.std(df_clean[\"Happiness Score\"])\n",
    "median_score = np.median(df_clean[\"Happiness Score\"])\n",
    "max_score = np.max(df_clean[\"Happiness Score\"])\n",
    "min_score = np.min(df_clean[\"Happiness Score\"])\n",
    "\n",
    "mean_score, std_score, median_score, max_score, min_score"
   ]
  },
  {
   "cell_type": "code",
   "execution_count": null,
   "id": "fe2bd9f8",
   "metadata": {},
   "outputs": [],
   "source": [
    "x = df_clean[\"Economy (GDP per Capita)\"]\n",
    "y = df_clean[\"Health (Life Expectancy)\"]\n",
    "correlation, p_value = pearsonr(x, y)\n",
    "correlation, p_value"
   ]
  },
  {
   "cell_type": "code",
   "execution_count": null,
   "id": "81fb673b",
   "metadata": {},
   "outputs": [],
   "source": [
    "X = sm.add_constant(df_clean[\"Economy (GDP per Capita)\"])\n",
    "y = df_clean[\"Happiness Score\"]\n",
    "model = sm.OLS(y, X).fit()\n",
    "model.summary()"
   ]
  },
  {
   "cell_type": "code",
   "execution_count": null,
   "id": "6f9e613a",
   "metadata": {},
   "outputs": [],
   "source": [
    "sns.set(style=\"whitegrid\")\n",
    "plt.figure(figsize=(14, 6))\n",
    "\n",
    "# Plot 1: Happiness Score by Region\n",
    "plt.subplot(1, 2, 1)\n",
    "sns.boxplot(x='Region', y='Happiness Score', data=df_clean)\n",
    "plt.xticks(rotation=90)\n",
    "plt.title(\"Happiness Score by Region\")\n",
    "\n",
    "# Plot 2: GDP vs Life Expectancy\n",
    "plt.subplot(1, 2, 2)\n",
    "sns.scatterplot(x=\"Economy (GDP per Capita)\", y=\"Health (Life Expectancy)\", data=df_clean)\n",
    "plt.title(\"GDP vs Life Expectancy\")\n",
    "\n",
    "plt.tight_layout()\n",
    "plt.show()"
   ]
  },
  {
   "cell_type": "code",
   "execution_count": null,
   "id": "52f007be",
   "metadata": {},
   "outputs": [],
   "source": [
    "plt.figure(figsize=(8, 6))\n",
    "sns.regplot(x=\"Economy (GDP per Capita)\", y=\"Happiness Score\", data=df_clean, line_kws={\"color\": \"red\"})\n",
    "plt.title(\"Correlation: GDP per Capita vs Happiness Score\")\n",
    "plt.show()"
   ]
  },
  {
   "cell_type": "code",
   "execution_count": null,
   "id": "645b146e",
   "metadata": {},
   "outputs": [],
   "source": []
  }
 ],
 "metadata": {
  "language_info": {
   "name": "python"
  }
 },
 "nbformat": 4,
 "nbformat_minor": 5
}
